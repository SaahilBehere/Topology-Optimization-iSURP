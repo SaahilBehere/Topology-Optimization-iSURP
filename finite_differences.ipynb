{
 "cells": [
  {
   "cell_type": "code",
   "execution_count": 121,
   "metadata": {},
   "outputs": [],
   "source": [
    "import numpy as np\n",
    "import matplotlib.pyplot as plt"
   ]
  },
  {
   "cell_type": "code",
   "execution_count": 122,
   "metadata": {},
   "outputs": [],
   "source": [
    "#Initial values and boundary conditions\n",
    "\n",
    "a = 0\n",
    "b = np.pi\n",
    "ua = 0\n",
    "ub = 0\n",
    "\n",
    "n = 100\n",
    "h = (b-a)/n"
   ]
  },
  {
   "cell_type": "code",
   "execution_count": 123,
   "metadata": {},
   "outputs": [],
   "source": [
    "#generate A\n",
    "\n",
    "A = np.eye(n-1)\n",
    "i,j=np.indices(A.shape)\n",
    "A[i==j]=2\n",
    "A[i==j+1]=-1\n",
    "A[i==j-1]=-1\n",
    "A/=h**2"
   ]
  },
  {
   "cell_type": "code",
   "execution_count": 124,
   "metadata": {},
   "outputs": [],
   "source": [
    "X = np.linspace(a,b,n+1)\n",
    "X=X[1:-1]\n",
    "\n",
    "# G as function or lambda expression\n",
    "G = np.sin(X)\n",
    "\n",
    "G = G.reshape(n-1,1)\n",
    "G[0]+=ua/h**2\n",
    "G[-1]+=ub/h**2"
   ]
  },
  {
   "cell_type": "code",
   "execution_count": 125,
   "metadata": {},
   "outputs": [],
   "source": [
    "#Solver\n",
    "\n",
    "A_inv=np.linalg.inv(A)\n",
    "U = np.matmul(A_inv,G)"
   ]
  },
  {
   "cell_type": "code",
   "execution_count": 127,
   "metadata": {},
   "outputs": [
    {
     "data": {
      "text/plain": [
       "Text(0, 0.5, 'u(x)')"
      ]
     },
     "execution_count": 127,
     "metadata": {},
     "output_type": "execute_result"
    },
    {
     "data": {
      "image/png": "[encoded data removed]",
      "text/plain": [
       "<Figure size 432x288 with 1 Axes>"
      ]
     },
     "metadata": {
      "needs_background": "light"
     },
     "output_type": "display_data"
    }
   ],
   "source": [
    "#Plot\n",
    "\n",
    "plt.plot(X,U)\n",
    "plt.xlabel(\"x\")\n",
    "plt.ylabel(\"u(x)\",rotation=1)"
   ]
  },
  {
   "cell_type": "code",
   "execution_count": null,
   "metadata": {},
   "outputs": [],
   "source": []
  }
 ],
 "metadata": {
  "kernelspec": {
   "display_name": "Python 3",
   "language": "python",
   "name": "python3"
  },
  "language_info": {
   "codemirror_mode": {
    "name": "ipython",
    "version": 3
   },
   "file_extension": ".py",
   "mimetype": "text/x-python",
   "name": "python",
   "nbconvert_exporter": "python",
   "pygments_lexer": "ipython3",
   "version": "3.7.4"
  }
 },
 "nbformat": 4,
 "nbformat_minor": 2
}
