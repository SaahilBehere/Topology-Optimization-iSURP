{
 "cells": [
  {
   "cell_type": "code",
   "execution_count": 185,
   "metadata": {},
   "outputs": [],
   "source": [
    "import numpy as np\n",
    "import matplotlib.pyplot as plt\n",
    "%matplotlib inline"
   ]
  },
  {
   "cell_type": "code",
   "execution_count": 215,
   "metadata": {},
   "outputs": [],
   "source": [
    "coef = np.array([0,0,1,-1,0,1])\n",
    "n = coef.size"
   ]
  },
  {
   "cell_type": "code",
   "execution_count": 216,
   "metadata": {},
   "outputs": [],
   "source": [
    "def f(x,coef):\n",
    "    p = np.arange(n)\n",
    "    x_p = np.power(x,p)\n",
    "    return np.dot(coef,x_p)"
   ]
  },
  {
   "cell_type": "code",
   "execution_count": 217,
   "metadata": {},
   "outputs": [
    {
     "data": {
      "text/plain": [
       "array([[0., 1., 0., 0., 0., 0.],\n",
       "       [0., 0., 2., 0., 0., 0.],\n",
       "       [0., 0., 0., 3., 0., 0.],\n",
       "       [0., 0., 0., 0., 4., 0.],\n",
       "       [0., 0., 0., 0., 0., 5.],\n",
       "       [0., 0., 0., 0., 0., 0.]])"
      ]
     },
     "execution_count": 217,
     "metadata": {},
     "output_type": "execute_result"
    }
   ],
   "source": [
    "A = np.zeros((n,n))\n",
    "i,j = np.indices(A.shape)\n",
    "A[i==j-1]=np.arange(1,n)\n",
    "A"
   ]
  },
  {
   "cell_type": "code",
   "execution_count": 218,
   "metadata": {},
   "outputs": [
    {
     "data": {
      "text/plain": [
       "array([ 0.,  2., -3.,  0.,  5.,  0.])"
      ]
     },
     "execution_count": 218,
     "metadata": {},
     "output_type": "execute_result"
    }
   ],
   "source": [
    "coef_der = np.dot(A,coef)\n",
    "coef_der"
   ]
  },
  {
   "cell_type": "code",
   "execution_count": 225,
   "metadata": {},
   "outputs": [
    {
     "data": {
      "text/plain": [
       "array([2.00000000e+00, 2.00000000e-01, 1.92800000e-01, 1.85775170e-01,\n",
       "       1.78925954e-01, 1.72252628e-01, 1.65755273e-01, 1.59433762e-01,\n",
       "       1.53287742e-01, 1.47316625e-01, 1.41519585e-01, 1.35895551e-01,\n",
       "       1.30443212e-01, 1.25161018e-01, 1.20047188e-01, 1.15099717e-01,\n",
       "       1.10316389e-01, 1.05694785e-01, 1.01232300e-01, 9.69261553e-02,\n",
       "       9.27734160e-02, 8.87710034e-02, 8.49157127e-02, 8.12042287e-02,\n",
       "       7.76331414e-02, 7.41989618e-02, 7.08981363e-02, 6.77270622e-02,\n",
       "       6.46821007e-02, 6.17595907e-02, 5.89558611e-02, 5.62672424e-02,\n",
       "       5.36900776e-02, 5.12207318e-02, 4.88556021e-02, 4.65911251e-02,\n",
       "       4.44237848e-02, 4.23501192e-02, 4.03667261e-02, 3.84702683e-02,\n",
       "       3.66574782e-02, 3.49251614e-02, 3.32701999e-02, 3.16895547e-02,\n",
       "       3.01802680e-02, 2.87394645e-02, 2.73643528e-02, 2.60522256e-02,\n",
       "       2.48004607e-02, 2.36065201e-02, 2.24679503e-02, 2.13823816e-02,\n",
       "       2.03475269e-02, 1.93611807e-02, 1.84212183e-02, 1.75255936e-02,\n",
       "       1.66723381e-02, 1.58595590e-02, 1.50854376e-02, 1.43482270e-02,\n",
       "       1.36462507e-02, 1.29779004e-02, 1.23416338e-02, 1.17359729e-02,\n",
       "       1.11595018e-02, 1.06108649e-02, 1.00887643e-02, 9.59195857e-03,\n",
       "       9.11926001e-03, 8.66953321e-03, 8.24169291e-03, 7.83470210e-03,\n",
       "       7.44757021e-03, 7.07935129e-03, 6.72914220e-03, 6.39608094e-03,\n",
       "       6.07934492e-03, 5.77814939e-03, 5.49174580e-03, 5.21942035e-03,\n",
       "       4.96049241e-03, 4.71431320e-03, 4.48026434e-03, 4.25775653e-03,\n",
       "       4.04622830e-03, 3.84514474e-03, 3.65399637e-03, 3.47229790e-03,\n",
       "       3.29958725e-03, 3.13542442e-03, 2.97939050e-03, 2.83108673e-03,\n",
       "       2.69013351e-03, 2.55616959e-03, 2.42885116e-03, 2.30785104e-03,\n",
       "       2.19285795e-03, 2.08357570e-03, 1.97972251e-03, 1.88103033e-03])"
      ]
     },
     "execution_count": 225,
     "metadata": {},
     "output_type": "execute_result"
    }
   ],
   "source": [
    "x = 2\n",
    "iter = 100\n",
    "x_array=np.zeros(iter)\n",
    "y_array=np.zeros(iter)\n",
    "x0_array=np.zeros(iter)\n",
    "a = 0.025\n",
    "for k in range(iter):\n",
    "    x_0 = x - a*f(x,coef_der)\n",
    "    x0_array[k] = x_0\n",
    "    x_array[k]=x\n",
    "    if(abs(f(x,coef_der))>0):\n",
    "        x = x_0\n",
    "    else:\n",
    "        break\n",
    "        \n",
    "    \n",
    "for k in range(iter):\n",
    "    y_array[k]=f(x_array[k],coef)\n",
    "x_array\n",
    "#[f(x_array[k],coef_der) for k in range(iter)]"
   ]
  },
  {
   "cell_type": "code",
   "execution_count": null,
   "metadata": {},
   "outputs": [],
   "source": []
  },
  {
   "cell_type": "code",
   "execution_count": null,
   "metadata": {},
   "outputs": [],
   "source": []
  },
  {
   "cell_type": "code",
   "execution_count": 226,
   "metadata": {},
   "outputs": [],
   "source": [
    "num = 100\n",
    "x1 = np.linspace(-5,5,num+1)\n",
    "y = np.zeros(x1.size)\n",
    "for b in range(x1.size):\n",
    "    y[b] = f(x1[b],coef)"
   ]
  },
  {
   "cell_type": "code",
   "execution_count": 227,
   "metadata": {},
   "outputs": [
    {
     "data": {
      "image/png": "[encoded data removed]",
      "text/plain": [
       "<Figure size 576x576 with 1 Axes>"
      ]
     },
     "metadata": {
      "needs_background": "light"
     },
     "output_type": "display_data"
    }
   ],
   "source": [
    "plt.figure(figsize=(8,8))\n",
    "plt.plot(x1,y,color=\"grey\")\n",
    "plt.plot(x_array,y_array,color=\"red\")\n",
    "plt.plot(x_array[-1],y_array[-1],'bo')\n",
    "plt.grid(True)"
   ]
  },
  {
   "cell_type": "code",
   "execution_count": 61,
   "metadata": {},
   "outputs": [],
   "source": [
    "y_der = np.zeros(x1.size)\n",
    "for b in range(x1.size):\n",
    "    y_der[b] = f(x1[b],coef_der)"
   ]
  },
  {
   "cell_type": "code",
   "execution_count": 62,
   "metadata": {},
   "outputs": [
    {
     "data": {
      "text/plain": [
       "[<matplotlib.lines.Line2D at 0x299b9a93a08>]"
      ]
     },
     "execution_count": 62,
     "metadata": {},
     "output_type": "execute_result"
    },
    {
     "data": {
      "image/png": "[encoded data removed]",
      "text/plain": [
       "<Figure size 432x288 with 1 Axes>"
      ]
     },
     "metadata": {
      "needs_background": "light"
     },
     "output_type": "display_data"
    }
   ],
   "source": [
    "plt.plot(x1,y_der)"
   ]
  },
  {
   "cell_type": "code",
   "execution_count": null,
   "metadata": {},
   "outputs": [],
   "source": []
  }
 ],
 "metadata": {
  "kernelspec": {
   "display_name": "Python 3",
   "language": "python",
   "name": "python3"
  },
  "language_info": {
   "codemirror_mode": {
    "name": "ipython",
    "version": 3
   },
   "file_extension": ".py",
   "mimetype": "text/x-python",
   "name": "python",
   "nbconvert_exporter": "python",
   "pygments_lexer": "ipython3",
   "version": "3.7.4"
  }
 },
 "nbformat": 4,
 "nbformat_minor": 2
}
